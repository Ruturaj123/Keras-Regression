{
  "nbformat": 4,
  "nbformat_minor": 0,
  "metadata": {
    "colab": {
      "name": "train.ipynb",
      "version": "0.3.2",
      "provenance": [],
      "toc_visible": true
    },
    "kernelspec": {
      "name": "python3",
      "display_name": "Python 3"
    },
    "accelerator": "GPU"
  },
  "cells": [
    {
      "metadata": {
        "id": "B1stM7LZJrT3",
        "colab_type": "text"
      },
      "cell_type": "markdown",
      "source": [
        "### Clone the dataset repository"
      ]
    },
    {
      "metadata": {
        "id": "Nev_IqV5sS5E",
        "colab_type": "code",
        "colab": {
          "base_uri": "https://localhost:8080/",
          "height": 102
        },
        "outputId": "f89818a0-72cf-4735-bbc9-edfd104f166a"
      },
      "cell_type": "code",
      "source": [
        "!git clone https://github.com/emanhamed/Houses-dataset"
      ],
      "execution_count": 2,
      "outputs": [
        {
          "output_type": "stream",
          "text": [
            "Cloning into 'Houses-dataset'...\n",
            "remote: Enumerating objects: 2161, done.\u001b[K\n",
            "remote: Total 2161 (delta 0), reused 0 (delta 0), pack-reused 2161\u001b[K\n",
            "Receiving objects: 100% (2161/2161), 176.26 MiB | 25.32 MiB/s, done.\n",
            "Resolving deltas: 100% (18/18), done.\n"
          ],
          "name": "stdout"
        }
      ]
    },
    {
      "metadata": {
        "id": "fWMG9kq1JxWm",
        "colab_type": "text"
      },
      "cell_type": "markdown",
      "source": [
        "### Import the dependencies"
      ]
    },
    {
      "metadata": {
        "id": "wHaFnk1udr_P",
        "colab_type": "code",
        "colab": {
          "base_uri": "https://localhost:8080/",
          "height": 34
        },
        "outputId": "246354ad-04d3-4dd6-a229-8f0accd478f3"
      },
      "cell_type": "code",
      "source": [
        "import datasets\n",
        "import models\n",
        "from sklearn.model_selection import train_test_split\n",
        "from keras.layers.core import Dense\n",
        "from keras.models import Model\n",
        "from keras.optimizers import Adam\n",
        "from keras.layers import concatenate\n",
        "import numpy as np\n",
        "import argparse\n",
        "import locale\n",
        "import os"
      ],
      "execution_count": 2,
      "outputs": [
        {
          "output_type": "stream",
          "text": [
            "Using TensorFlow backend.\n"
          ],
          "name": "stderr"
        }
      ]
    },
    {
      "metadata": {
        "id": "P0sqzQJqJ0s7",
        "colab_type": "text"
      },
      "cell_type": "markdown",
      "source": [
        "### Load and split the dataset"
      ]
    },
    {
      "metadata": {
        "id": "VMWkpVgSeTyg",
        "colab_type": "code",
        "colab": {}
      },
      "cell_type": "code",
      "source": [
        "df = datasets.load_attributes(\"Houses-dataset/Houses Dataset/HousesInfo.txt\")\n",
        "images = datasets.load_images(df, \"Houses-dataset/Houses Dataset\")\n",
        "\n",
        "images = images/255.0\n",
        "\n",
        "(trainAttrX, testAttrX, trainImagesX, testImagesX) = train_test_split(df, images,\n",
        "                                                     test_size=0.25, random_state=42)"
      ],
      "execution_count": 0,
      "outputs": []
    },
    {
      "metadata": {
        "id": "bcWHoqsgJ6iM",
        "colab_type": "text"
      },
      "cell_type": "markdown",
      "source": [
        "### Preprocess the data"
      ]
    },
    {
      "metadata": {
        "id": "7PVpL5aVebkP",
        "colab_type": "code",
        "colab": {
          "base_uri": "https://localhost:8080/",
          "height": 71
        },
        "outputId": "76e75652-23da-4299-b050-2c1a2c4a367f"
      },
      "cell_type": "code",
      "source": [
        "max_price = trainAttrX[\"price\"].max()\n",
        "trainY = trainAttrX[\"price\"] / max_price\n",
        "testY = testAttrX[\"price\"] / max_price\n",
        "\n",
        "(trainAttrX, testAttrX) = datasets.process_attributes(df, trainAttrX, testAttrX)"
      ],
      "execution_count": 71,
      "outputs": [
        {
          "output_type": "stream",
          "text": [
            "/usr/local/lib/python3.6/dist-packages/sklearn/preprocessing/data.py:323: DataConversionWarning: Data with input dtype int64, float64 were all converted to float64 by MinMaxScaler.\n",
            "  return self.partial_fit(X, y)\n"
          ],
          "name": "stderr"
        }
      ]
    },
    {
      "metadata": {
        "id": "CB-IW69KKBMc",
        "colab_type": "text"
      },
      "cell_type": "markdown",
      "source": [
        "### Build the model"
      ]
    },
    {
      "metadata": {
        "id": "R8oeLem_efM1",
        "colab_type": "code",
        "colab": {}
      },
      "cell_type": "code",
      "source": [
        "mlp = models.build_mlp(trainAttrX.shape[1], False)\n",
        "cnn = models.build_cnn(64, 64, 3, regress=False)\n",
        "\n",
        "concatenated = concatenate([mlp.output, cnn.output])\n",
        "\n",
        "x = Dense(4, activation=\"relu\")(concatenated)\n",
        "x = Dense(1, activation=\"linear\")(x)\n",
        "\n",
        "model = Model(inputs=[mlp.input, cnn.input], outputs=x)"
      ],
      "execution_count": 0,
      "outputs": []
    },
    {
      "metadata": {
        "id": "OjNespRIKDqR",
        "colab_type": "text"
      },
      "cell_type": "markdown",
      "source": [
        "### Choose the optimizer and compile the model"
      ]
    },
    {
      "metadata": {
        "id": "X3F9y_o4ejQH",
        "colab_type": "code",
        "colab": {
          "base_uri": "https://localhost:8080/",
          "height": 1037
        },
        "outputId": "ca8d6850-a285-4528-d2de-3e367b6535bc"
      },
      "cell_type": "code",
      "source": [
        "optimizer = Adam(lr=1e-3, decay=1e-3/200)\n",
        "model.compile(loss=\"mean_absolute_percentage_error\", optimizer=optimizer)\n",
        "model.summary()"
      ],
      "execution_count": 73,
      "outputs": [
        {
          "output_type": "stream",
          "text": [
            "__________________________________________________________________________________________________\n",
            "Layer (type)                    Output Shape         Param #     Connected to                     \n",
            "==================================================================================================\n",
            "input_2 (InputLayer)            (None, 64, 64, 3)    0                                            \n",
            "__________________________________________________________________________________________________\n",
            "conv2d_4 (Conv2D)               (None, 64, 64, 16)   448         input_2[0][0]                    \n",
            "__________________________________________________________________________________________________\n",
            "activation_6 (Activation)       (None, 64, 64, 16)   0           conv2d_4[0][0]                   \n",
            "__________________________________________________________________________________________________\n",
            "batch_normalization_5 (BatchNor (None, 64, 64, 16)   64          activation_6[0][0]               \n",
            "__________________________________________________________________________________________________\n",
            "max_pooling2d_4 (MaxPooling2D)  (None, 32, 32, 16)   0           batch_normalization_5[0][0]      \n",
            "__________________________________________________________________________________________________\n",
            "conv2d_5 (Conv2D)               (None, 32, 32, 32)   4640        max_pooling2d_4[0][0]            \n",
            "__________________________________________________________________________________________________\n",
            "activation_7 (Activation)       (None, 32, 32, 32)   0           conv2d_5[0][0]                   \n",
            "__________________________________________________________________________________________________\n",
            "batch_normalization_6 (BatchNor (None, 32, 32, 32)   128         activation_7[0][0]               \n",
            "__________________________________________________________________________________________________\n",
            "max_pooling2d_5 (MaxPooling2D)  (None, 16, 16, 32)   0           batch_normalization_6[0][0]      \n",
            "__________________________________________________________________________________________________\n",
            "conv2d_6 (Conv2D)               (None, 16, 16, 64)   18496       max_pooling2d_5[0][0]            \n",
            "__________________________________________________________________________________________________\n",
            "activation_8 (Activation)       (None, 16, 16, 64)   0           conv2d_6[0][0]                   \n",
            "__________________________________________________________________________________________________\n",
            "batch_normalization_7 (BatchNor (None, 16, 16, 64)   256         activation_8[0][0]               \n",
            "__________________________________________________________________________________________________\n",
            "max_pooling2d_6 (MaxPooling2D)  (None, 8, 8, 64)     0           batch_normalization_7[0][0]      \n",
            "__________________________________________________________________________________________________\n",
            "flatten_2 (Flatten)             (None, 4096)         0           max_pooling2d_6[0][0]            \n",
            "__________________________________________________________________________________________________\n",
            "dense_9 (Dense)                 (None, 16)           65552       flatten_2[0][0]                  \n",
            "__________________________________________________________________________________________________\n",
            "activation_9 (Activation)       (None, 16)           0           dense_9[0][0]                    \n",
            "__________________________________________________________________________________________________\n",
            "batch_normalization_8 (BatchNor (None, 16)           64          activation_9[0][0]               \n",
            "__________________________________________________________________________________________________\n",
            "dense_7_input (InputLayer)      (None, 11)           0                                            \n",
            "__________________________________________________________________________________________________\n",
            "dropout_2 (Dropout)             (None, 16)           0           batch_normalization_8[0][0]      \n",
            "__________________________________________________________________________________________________\n",
            "dense_7 (Dense)                 (None, 8)            96          dense_7_input[0][0]              \n",
            "__________________________________________________________________________________________________\n",
            "dense_10 (Dense)                (None, 4)            68          dropout_2[0][0]                  \n",
            "__________________________________________________________________________________________________\n",
            "dense_8 (Dense)                 (None, 4)            36          dense_7[0][0]                    \n",
            "__________________________________________________________________________________________________\n",
            "activation_10 (Activation)      (None, 4)            0           dense_10[0][0]                   \n",
            "__________________________________________________________________________________________________\n",
            "concatenate_2 (Concatenate)     (None, 8)            0           dense_8[0][0]                    \n",
            "                                                                 activation_10[0][0]              \n",
            "__________________________________________________________________________________________________\n",
            "dense_11 (Dense)                (None, 4)            36          concatenate_2[0][0]              \n",
            "__________________________________________________________________________________________________\n",
            "dense_12 (Dense)                (None, 1)            5           dense_11[0][0]                   \n",
            "==================================================================================================\n",
            "Total params: 89,889\n",
            "Trainable params: 89,633\n",
            "Non-trainable params: 256\n",
            "__________________________________________________________________________________________________\n"
          ],
          "name": "stdout"
        }
      ]
    },
    {
      "metadata": {
        "id": "pWA5zErWKKa0",
        "colab_type": "text"
      },
      "cell_type": "markdown",
      "source": [
        "### Train the model"
      ]
    },
    {
      "metadata": {
        "id": "I5WnNxqberig",
        "colab_type": "code",
        "colab": {
          "base_uri": "https://localhost:8080/",
          "height": 6851
        },
        "outputId": "e6a1b922-ad4b-45c1-e6ee-e6cf3033f9cd"
      },
      "cell_type": "code",
      "source": [
        "model.fit(\n",
        "\t[trainAttrX, trainImagesX], trainY,\n",
        "\tvalidation_data=([testAttrX, testImagesX], testY),\n",
        "\tepochs=200, batch_size=8)"
      ],
      "execution_count": 74,
      "outputs": [
        {
          "output_type": "stream",
          "text": [
            "Train on 288 samples, validate on 96 samples\n",
            "Epoch 1/200\n",
            "288/288 [==============================] - 2s 6ms/step - loss: 809.8560 - val_loss: 1848.5160\n",
            "Epoch 2/200\n",
            "288/288 [==============================] - 1s 2ms/step - loss: 388.9920 - val_loss: 923.8841\n",
            "Epoch 3/200\n",
            "288/288 [==============================] - 1s 2ms/step - loss: 228.4588 - val_loss: 101.0096\n",
            "Epoch 4/200\n",
            "288/288 [==============================] - 1s 2ms/step - loss: 178.9404 - val_loss: 81.2412\n",
            "Epoch 5/200\n",
            "288/288 [==============================] - 1s 2ms/step - loss: 128.7170 - val_loss: 73.8090\n",
            "Epoch 6/200\n",
            "288/288 [==============================] - 1s 2ms/step - loss: 110.9636 - val_loss: 65.0066\n",
            "Epoch 7/200\n",
            "288/288 [==============================] - 1s 2ms/step - loss: 77.2173 - val_loss: 64.2034\n",
            "Epoch 8/200\n",
            "288/288 [==============================] - 1s 2ms/step - loss: 81.8582 - val_loss: 54.8672\n",
            "Epoch 9/200\n",
            "288/288 [==============================] - 1s 2ms/step - loss: 80.9631 - val_loss: 52.4268\n",
            "Epoch 10/200\n",
            "288/288 [==============================] - 1s 2ms/step - loss: 69.5963 - val_loss: 52.2852\n",
            "Epoch 11/200\n",
            "288/288 [==============================] - 1s 2ms/step - loss: 64.0252 - val_loss: 51.8003\n",
            "Epoch 12/200\n",
            "288/288 [==============================] - 1s 2ms/step - loss: 55.9858 - val_loss: 50.3595\n",
            "Epoch 13/200\n",
            "288/288 [==============================] - 1s 2ms/step - loss: 55.8787 - val_loss: 48.6440\n",
            "Epoch 14/200\n",
            "288/288 [==============================] - 1s 2ms/step - loss: 57.4053 - val_loss: 48.2225\n",
            "Epoch 15/200\n",
            "288/288 [==============================] - 1s 2ms/step - loss: 53.4945 - val_loss: 49.0209\n",
            "Epoch 16/200\n",
            "288/288 [==============================] - 1s 2ms/step - loss: 51.0972 - val_loss: 52.1338\n",
            "Epoch 17/200\n",
            "288/288 [==============================] - 1s 2ms/step - loss: 53.9881 - val_loss: 48.9038\n",
            "Epoch 18/200\n",
            "288/288 [==============================] - 1s 2ms/step - loss: 48.3096 - val_loss: 48.0063\n",
            "Epoch 19/200\n",
            "288/288 [==============================] - 1s 2ms/step - loss: 47.7545 - val_loss: 46.6524\n",
            "Epoch 20/200\n",
            "288/288 [==============================] - 1s 2ms/step - loss: 46.9322 - val_loss: 45.4576\n",
            "Epoch 21/200\n",
            "288/288 [==============================] - 1s 2ms/step - loss: 45.7186 - val_loss: 46.3168\n",
            "Epoch 22/200\n",
            "288/288 [==============================] - 1s 2ms/step - loss: 47.6621 - val_loss: 45.2784\n",
            "Epoch 23/200\n",
            "288/288 [==============================] - 1s 2ms/step - loss: 44.2514 - val_loss: 45.6605\n",
            "Epoch 24/200\n",
            "288/288 [==============================] - 1s 2ms/step - loss: 46.3522 - val_loss: 45.9871\n",
            "Epoch 25/200\n",
            "288/288 [==============================] - 1s 2ms/step - loss: 45.6647 - val_loss: 46.5757\n",
            "Epoch 26/200\n",
            "288/288 [==============================] - 1s 2ms/step - loss: 46.8426 - val_loss: 45.7215\n",
            "Epoch 27/200\n",
            "288/288 [==============================] - 1s 2ms/step - loss: 43.6492 - val_loss: 47.1641\n",
            "Epoch 28/200\n",
            "288/288 [==============================] - 1s 2ms/step - loss: 48.8751 - val_loss: 49.4536\n",
            "Epoch 29/200\n",
            "288/288 [==============================] - 1s 2ms/step - loss: 44.6785 - val_loss: 48.1751\n",
            "Epoch 30/200\n",
            "288/288 [==============================] - 1s 2ms/step - loss: 43.8132 - val_loss: 43.6366\n",
            "Epoch 31/200\n",
            "288/288 [==============================] - 1s 2ms/step - loss: 42.2888 - val_loss: 43.8903\n",
            "Epoch 32/200\n",
            "288/288 [==============================] - 1s 2ms/step - loss: 44.2180 - val_loss: 43.4141\n",
            "Epoch 33/200\n",
            "288/288 [==============================] - 1s 2ms/step - loss: 43.7201 - val_loss: 43.7325\n",
            "Epoch 34/200\n",
            "288/288 [==============================] - 1s 2ms/step - loss: 42.6639 - val_loss: 42.4256\n",
            "Epoch 35/200\n",
            "288/288 [==============================] - 1s 2ms/step - loss: 38.7811 - val_loss: 41.6627\n",
            "Epoch 36/200\n",
            "288/288 [==============================] - 1s 2ms/step - loss: 40.4057 - val_loss: 42.9752\n",
            "Epoch 37/200\n",
            "288/288 [==============================] - 1s 2ms/step - loss: 43.0644 - val_loss: 43.9650\n",
            "Epoch 38/200\n",
            "288/288 [==============================] - 1s 2ms/step - loss: 44.2587 - val_loss: 44.2650\n",
            "Epoch 39/200\n",
            "288/288 [==============================] - 1s 2ms/step - loss: 43.9258 - val_loss: 44.6814\n",
            "Epoch 40/200\n",
            "288/288 [==============================] - 1s 2ms/step - loss: 41.5716 - val_loss: 45.1741\n",
            "Epoch 41/200\n",
            "288/288 [==============================] - 1s 2ms/step - loss: 40.8937 - val_loss: 44.8848\n",
            "Epoch 42/200\n",
            "288/288 [==============================] - 1s 2ms/step - loss: 38.4048 - val_loss: 44.0200\n",
            "Epoch 43/200\n",
            "288/288 [==============================] - 1s 2ms/step - loss: 40.7434 - val_loss: 43.7565\n",
            "Epoch 44/200\n",
            "288/288 [==============================] - 1s 2ms/step - loss: 44.3323 - val_loss: 43.8446\n",
            "Epoch 45/200\n",
            "288/288 [==============================] - 1s 2ms/step - loss: 40.9801 - val_loss: 42.3158\n",
            "Epoch 46/200\n",
            "288/288 [==============================] - 1s 2ms/step - loss: 41.2138 - val_loss: 45.4567\n",
            "Epoch 47/200\n",
            "288/288 [==============================] - 1s 2ms/step - loss: 38.4210 - val_loss: 44.4382\n",
            "Epoch 48/200\n",
            "288/288 [==============================] - 1s 2ms/step - loss: 40.0750 - val_loss: 44.6750\n",
            "Epoch 49/200\n",
            "288/288 [==============================] - 1s 2ms/step - loss: 39.3561 - val_loss: 43.1156\n",
            "Epoch 50/200\n",
            "288/288 [==============================] - 1s 2ms/step - loss: 40.0966 - val_loss: 42.3297\n",
            "Epoch 51/200\n",
            "288/288 [==============================] - 1s 2ms/step - loss: 37.1498 - val_loss: 45.9471\n",
            "Epoch 52/200\n",
            "288/288 [==============================] - 1s 2ms/step - loss: 34.6560 - val_loss: 40.1683\n",
            "Epoch 53/200\n",
            "288/288 [==============================] - 1s 2ms/step - loss: 36.1070 - val_loss: 41.0207\n",
            "Epoch 54/200\n",
            "288/288 [==============================] - 1s 2ms/step - loss: 36.0003 - val_loss: 38.3010\n",
            "Epoch 55/200\n",
            "288/288 [==============================] - 1s 2ms/step - loss: 39.4843 - val_loss: 41.0498\n",
            "Epoch 56/200\n",
            "288/288 [==============================] - 1s 2ms/step - loss: 38.1959 - val_loss: 37.9752\n",
            "Epoch 57/200\n",
            "288/288 [==============================] - 1s 2ms/step - loss: 34.4426 - val_loss: 38.7358\n",
            "Epoch 58/200\n",
            "288/288 [==============================] - 1s 2ms/step - loss: 36.5792 - val_loss: 40.0731\n",
            "Epoch 59/200\n",
            "288/288 [==============================] - 1s 2ms/step - loss: 34.4839 - val_loss: 37.7566\n",
            "Epoch 60/200\n",
            "288/288 [==============================] - 1s 2ms/step - loss: 34.1058 - val_loss: 40.7575\n",
            "Epoch 61/200\n",
            "288/288 [==============================] - 1s 2ms/step - loss: 33.2756 - val_loss: 39.0438\n",
            "Epoch 62/200\n",
            "288/288 [==============================] - 1s 2ms/step - loss: 33.7522 - val_loss: 35.1282\n",
            "Epoch 63/200\n",
            "288/288 [==============================] - 1s 2ms/step - loss: 34.8188 - val_loss: 34.2159\n",
            "Epoch 64/200\n",
            "288/288 [==============================] - 1s 2ms/step - loss: 36.2669 - val_loss: 38.0007\n",
            "Epoch 65/200\n",
            "288/288 [==============================] - 1s 2ms/step - loss: 34.7679 - val_loss: 37.6803\n",
            "Epoch 66/200\n",
            "288/288 [==============================] - 1s 2ms/step - loss: 35.9957 - val_loss: 35.8367\n",
            "Epoch 67/200\n",
            "288/288 [==============================] - 1s 2ms/step - loss: 32.4877 - val_loss: 38.2321\n",
            "Epoch 68/200\n",
            "288/288 [==============================] - 1s 2ms/step - loss: 32.9860 - val_loss: 67.8863\n",
            "Epoch 69/200\n",
            "288/288 [==============================] - 1s 2ms/step - loss: 31.2645 - val_loss: 39.7476\n",
            "Epoch 70/200\n",
            "288/288 [==============================] - 1s 2ms/step - loss: 31.4276 - val_loss: 34.8728\n",
            "Epoch 71/200\n",
            "288/288 [==============================] - 1s 2ms/step - loss: 30.9006 - val_loss: 33.5996\n",
            "Epoch 72/200\n",
            "288/288 [==============================] - 1s 2ms/step - loss: 32.8705 - val_loss: 32.0807\n",
            "Epoch 73/200\n",
            "288/288 [==============================] - 1s 2ms/step - loss: 35.1282 - val_loss: 34.3454\n",
            "Epoch 74/200\n",
            "288/288 [==============================] - 1s 2ms/step - loss: 31.6965 - val_loss: 39.9678\n",
            "Epoch 75/200\n",
            "288/288 [==============================] - 1s 2ms/step - loss: 32.9164 - val_loss: 36.0399\n",
            "Epoch 76/200\n",
            "288/288 [==============================] - 1s 2ms/step - loss: 30.4327 - val_loss: 37.1154\n",
            "Epoch 77/200\n",
            "288/288 [==============================] - 1s 2ms/step - loss: 29.3516 - val_loss: 34.0438\n",
            "Epoch 78/200\n",
            "288/288 [==============================] - 1s 2ms/step - loss: 30.3494 - val_loss: 35.8697\n",
            "Epoch 79/200\n",
            "288/288 [==============================] - 1s 2ms/step - loss: 34.0015 - val_loss: 138.2327\n",
            "Epoch 80/200\n",
            "288/288 [==============================] - 1s 2ms/step - loss: 30.7202 - val_loss: 80.1438\n",
            "Epoch 81/200\n",
            "288/288 [==============================] - 1s 2ms/step - loss: 30.1192 - val_loss: 43.3801\n",
            "Epoch 82/200\n",
            "288/288 [==============================] - 1s 2ms/step - loss: 30.0693 - val_loss: 33.5275\n",
            "Epoch 83/200\n",
            "288/288 [==============================] - 1s 2ms/step - loss: 28.6342 - val_loss: 31.1396\n",
            "Epoch 84/200\n",
            "288/288 [==============================] - 1s 2ms/step - loss: 27.2377 - val_loss: 28.0395\n",
            "Epoch 85/200\n",
            "288/288 [==============================] - 1s 2ms/step - loss: 27.7490 - val_loss: 29.2540\n",
            "Epoch 86/200\n",
            "288/288 [==============================] - 1s 2ms/step - loss: 28.4998 - val_loss: 27.7363\n",
            "Epoch 87/200\n",
            "288/288 [==============================] - 1s 2ms/step - loss: 26.2522 - val_loss: 26.2883\n",
            "Epoch 88/200\n",
            "288/288 [==============================] - 1s 2ms/step - loss: 26.8000 - val_loss: 25.4375\n",
            "Epoch 89/200\n",
            "288/288 [==============================] - 1s 2ms/step - loss: 24.1170 - val_loss: 23.3490\n",
            "Epoch 90/200\n",
            "288/288 [==============================] - 1s 2ms/step - loss: 27.0800 - val_loss: 29.9493\n",
            "Epoch 91/200\n",
            "288/288 [==============================] - 1s 2ms/step - loss: 26.3477 - val_loss: 26.8510\n",
            "Epoch 92/200\n",
            "288/288 [==============================] - 1s 2ms/step - loss: 25.3075 - val_loss: 24.1040\n",
            "Epoch 93/200\n",
            "288/288 [==============================] - 1s 2ms/step - loss: 23.9119 - val_loss: 23.1935\n",
            "Epoch 94/200\n",
            "288/288 [==============================] - 1s 2ms/step - loss: 24.5114 - val_loss: 23.1426\n",
            "Epoch 95/200\n",
            "288/288 [==============================] - 1s 2ms/step - loss: 23.9983 - val_loss: 21.7049\n",
            "Epoch 96/200\n",
            "288/288 [==============================] - 1s 2ms/step - loss: 23.4344 - val_loss: 22.7369\n",
            "Epoch 97/200\n",
            "288/288 [==============================] - 1s 2ms/step - loss: 22.0599 - val_loss: 22.9912\n",
            "Epoch 98/200\n",
            "288/288 [==============================] - 1s 2ms/step - loss: 23.9194 - val_loss: 23.0628\n",
            "Epoch 99/200\n",
            "288/288 [==============================] - 1s 2ms/step - loss: 23.6333 - val_loss: 22.8100\n",
            "Epoch 100/200\n",
            "288/288 [==============================] - 1s 2ms/step - loss: 23.9521 - val_loss: 24.5207\n",
            "Epoch 101/200\n",
            "288/288 [==============================] - 1s 2ms/step - loss: 22.4675 - val_loss: 22.4521\n",
            "Epoch 102/200\n",
            "288/288 [==============================] - 1s 2ms/step - loss: 23.2087 - val_loss: 23.3347\n",
            "Epoch 103/200\n",
            "288/288 [==============================] - 1s 2ms/step - loss: 21.5491 - val_loss: 23.2946\n",
            "Epoch 104/200\n",
            "288/288 [==============================] - 1s 2ms/step - loss: 22.8608 - val_loss: 23.3815\n",
            "Epoch 105/200\n",
            "288/288 [==============================] - 1s 2ms/step - loss: 21.8078 - val_loss: 23.0648\n",
            "Epoch 106/200\n",
            "288/288 [==============================] - 1s 2ms/step - loss: 22.9201 - val_loss: 22.2036\n",
            "Epoch 107/200\n",
            "288/288 [==============================] - 1s 2ms/step - loss: 22.2218 - val_loss: 22.6741\n",
            "Epoch 108/200\n",
            "288/288 [==============================] - 1s 2ms/step - loss: 21.7550 - val_loss: 22.2452\n",
            "Epoch 109/200\n",
            "288/288 [==============================] - 1s 2ms/step - loss: 20.4251 - val_loss: 21.7319\n",
            "Epoch 110/200\n",
            "288/288 [==============================] - 1s 2ms/step - loss: 22.0803 - val_loss: 32.7349\n",
            "Epoch 111/200\n",
            "288/288 [==============================] - 1s 2ms/step - loss: 22.2612 - val_loss: 23.2248\n",
            "Epoch 112/200\n",
            "288/288 [==============================] - 1s 2ms/step - loss: 20.9340 - val_loss: 24.5820\n",
            "Epoch 113/200\n",
            "288/288 [==============================] - 1s 2ms/step - loss: 20.7319 - val_loss: 24.5440\n",
            "Epoch 114/200\n",
            "288/288 [==============================] - 1s 2ms/step - loss: 23.5227 - val_loss: 23.8349\n",
            "Epoch 115/200\n",
            "288/288 [==============================] - 1s 2ms/step - loss: 21.8415 - val_loss: 23.3118\n",
            "Epoch 116/200\n",
            "288/288 [==============================] - 1s 2ms/step - loss: 21.1535 - val_loss: 23.2299\n",
            "Epoch 117/200\n",
            "288/288 [==============================] - 1s 2ms/step - loss: 21.2953 - val_loss: 23.4698\n",
            "Epoch 118/200\n",
            "288/288 [==============================] - 1s 2ms/step - loss: 21.6876 - val_loss: 22.4803\n",
            "Epoch 119/200\n",
            "288/288 [==============================] - 1s 2ms/step - loss: 21.7697 - val_loss: 22.6059\n",
            "Epoch 120/200\n",
            "288/288 [==============================] - 1s 2ms/step - loss: 20.4073 - val_loss: 22.7488\n",
            "Epoch 121/200\n",
            "288/288 [==============================] - 1s 2ms/step - loss: 21.3676 - val_loss: 24.2251\n",
            "Epoch 122/200\n",
            "288/288 [==============================] - 1s 2ms/step - loss: 20.4701 - val_loss: 23.2014\n",
            "Epoch 123/200\n",
            "288/288 [==============================] - 1s 2ms/step - loss: 21.0915 - val_loss: 22.7250\n",
            "Epoch 124/200\n",
            "288/288 [==============================] - 1s 2ms/step - loss: 22.0216 - val_loss: 22.7235\n",
            "Epoch 125/200\n",
            "288/288 [==============================] - 1s 2ms/step - loss: 20.4656 - val_loss: 23.4046\n",
            "Epoch 126/200\n",
            "288/288 [==============================] - 1s 2ms/step - loss: 19.8524 - val_loss: 21.7518\n",
            "Epoch 127/200\n",
            "288/288 [==============================] - 1s 2ms/step - loss: 21.2261 - val_loss: 21.9272\n",
            "Epoch 128/200\n",
            "288/288 [==============================] - 1s 2ms/step - loss: 20.2277 - val_loss: 21.8391\n",
            "Epoch 129/200\n",
            "288/288 [==============================] - 1s 2ms/step - loss: 20.6555 - val_loss: 21.4613\n",
            "Epoch 130/200\n",
            "288/288 [==============================] - 1s 2ms/step - loss: 20.3331 - val_loss: 28.0401\n",
            "Epoch 131/200\n",
            "288/288 [==============================] - 1s 2ms/step - loss: 21.5841 - val_loss: 22.7813\n",
            "Epoch 132/200\n",
            "288/288 [==============================] - 1s 2ms/step - loss: 21.0281 - val_loss: 22.3624\n",
            "Epoch 133/200\n",
            "288/288 [==============================] - 1s 2ms/step - loss: 20.7740 - val_loss: 23.9551\n",
            "Epoch 134/200\n",
            "288/288 [==============================] - 1s 2ms/step - loss: 19.9582 - val_loss: 23.7075\n",
            "Epoch 135/200\n",
            "288/288 [==============================] - 1s 2ms/step - loss: 19.0177 - val_loss: 23.8096\n",
            "Epoch 136/200\n",
            "288/288 [==============================] - 1s 2ms/step - loss: 19.1948 - val_loss: 22.6672\n",
            "Epoch 137/200\n",
            "288/288 [==============================] - 1s 2ms/step - loss: 20.2598 - val_loss: 24.0895\n",
            "Epoch 138/200\n",
            "288/288 [==============================] - 1s 2ms/step - loss: 21.6307 - val_loss: 22.1377\n",
            "Epoch 139/200\n",
            "288/288 [==============================] - 1s 2ms/step - loss: 19.8707 - val_loss: 22.5667\n",
            "Epoch 140/200\n",
            "288/288 [==============================] - 1s 2ms/step - loss: 20.1849 - val_loss: 22.1409\n",
            "Epoch 141/200\n",
            "288/288 [==============================] - 1s 2ms/step - loss: 20.1413 - val_loss: 22.5470\n",
            "Epoch 142/200\n",
            "288/288 [==============================] - 1s 2ms/step - loss: 19.1638 - val_loss: 28.5989\n",
            "Epoch 143/200\n",
            "288/288 [==============================] - 1s 2ms/step - loss: 20.7750 - val_loss: 24.2508\n",
            "Epoch 144/200\n",
            "288/288 [==============================] - 1s 2ms/step - loss: 19.7803 - val_loss: 21.5496\n",
            "Epoch 145/200\n",
            "288/288 [==============================] - 1s 2ms/step - loss: 18.8213 - val_loss: 22.3633\n",
            "Epoch 146/200\n",
            "288/288 [==============================] - 1s 2ms/step - loss: 19.4783 - val_loss: 23.3173\n",
            "Epoch 147/200\n",
            "288/288 [==============================] - 1s 2ms/step - loss: 19.4013 - val_loss: 22.1225\n",
            "Epoch 148/200\n",
            "288/288 [==============================] - 1s 2ms/step - loss: 20.3458 - val_loss: 22.5824\n",
            "Epoch 149/200\n",
            "288/288 [==============================] - 1s 2ms/step - loss: 18.6984 - val_loss: 21.5363\n",
            "Epoch 150/200\n",
            "288/288 [==============================] - 1s 2ms/step - loss: 19.6100 - val_loss: 22.1741\n",
            "Epoch 151/200\n",
            "288/288 [==============================] - 1s 2ms/step - loss: 17.9519 - val_loss: 22.8606\n",
            "Epoch 152/200\n",
            "288/288 [==============================] - 1s 2ms/step - loss: 18.2561 - val_loss: 23.4491\n",
            "Epoch 153/200\n",
            "288/288 [==============================] - 1s 2ms/step - loss: 18.9480 - val_loss: 22.6588\n",
            "Epoch 154/200\n",
            "288/288 [==============================] - 1s 2ms/step - loss: 20.0579 - val_loss: 23.5453\n",
            "Epoch 155/200\n",
            "288/288 [==============================] - 1s 2ms/step - loss: 18.4856 - val_loss: 22.5237\n",
            "Epoch 156/200\n",
            "288/288 [==============================] - 1s 2ms/step - loss: 18.5173 - val_loss: 23.2192\n",
            "Epoch 157/200\n",
            "288/288 [==============================] - 1s 2ms/step - loss: 18.8038 - val_loss: 23.1909\n",
            "Epoch 158/200\n",
            "288/288 [==============================] - 1s 2ms/step - loss: 17.9781 - val_loss: 21.9709\n",
            "Epoch 159/200\n",
            "288/288 [==============================] - 1s 2ms/step - loss: 19.3754 - val_loss: 23.0070\n",
            "Epoch 160/200\n",
            "288/288 [==============================] - 1s 2ms/step - loss: 19.3089 - val_loss: 22.2705\n",
            "Epoch 161/200\n",
            "288/288 [==============================] - 1s 2ms/step - loss: 18.9836 - val_loss: 23.6690\n",
            "Epoch 162/200\n",
            "288/288 [==============================] - 1s 2ms/step - loss: 18.2189 - val_loss: 23.2954\n",
            "Epoch 163/200\n",
            "288/288 [==============================] - 1s 2ms/step - loss: 17.6087 - val_loss: 21.4422\n",
            "Epoch 164/200\n",
            "288/288 [==============================] - 1s 2ms/step - loss: 19.9874 - val_loss: 22.8193\n",
            "Epoch 165/200\n",
            "288/288 [==============================] - 1s 2ms/step - loss: 19.1230 - val_loss: 22.8941\n",
            "Epoch 166/200\n",
            "288/288 [==============================] - 1s 2ms/step - loss: 19.5807 - val_loss: 22.8073\n",
            "Epoch 167/200\n",
            "288/288 [==============================] - 1s 2ms/step - loss: 18.8799 - val_loss: 21.6882\n",
            "Epoch 168/200\n",
            "288/288 [==============================] - 1s 2ms/step - loss: 19.2988 - val_loss: 24.8314\n",
            "Epoch 169/200\n",
            "288/288 [==============================] - 1s 2ms/step - loss: 17.9052 - val_loss: 22.6140\n",
            "Epoch 170/200\n",
            "288/288 [==============================] - 1s 2ms/step - loss: 18.2649 - val_loss: 23.5276\n",
            "Epoch 171/200\n",
            "288/288 [==============================] - 1s 2ms/step - loss: 21.3140 - val_loss: 24.2098\n",
            "Epoch 172/200\n",
            "288/288 [==============================] - 1s 2ms/step - loss: 20.5984 - val_loss: 22.4474\n",
            "Epoch 173/200\n",
            "288/288 [==============================] - 1s 2ms/step - loss: 19.1806 - val_loss: 21.2309\n",
            "Epoch 174/200\n",
            "288/288 [==============================] - 1s 2ms/step - loss: 18.5047 - val_loss: 21.8063\n",
            "Epoch 175/200\n",
            "288/288 [==============================] - 1s 2ms/step - loss: 19.6581 - val_loss: 21.1322\n",
            "Epoch 176/200\n",
            "288/288 [==============================] - 1s 2ms/step - loss: 18.1228 - val_loss: 21.1068\n",
            "Epoch 177/200\n",
            "288/288 [==============================] - 1s 2ms/step - loss: 17.6678 - val_loss: 22.5280\n",
            "Epoch 178/200\n",
            "288/288 [==============================] - 1s 2ms/step - loss: 17.7954 - val_loss: 21.2273\n",
            "Epoch 179/200\n",
            "288/288 [==============================] - 1s 2ms/step - loss: 18.3840 - val_loss: 22.3369\n",
            "Epoch 180/200\n",
            "288/288 [==============================] - 1s 2ms/step - loss: 18.9559 - val_loss: 21.5024\n",
            "Epoch 181/200\n",
            "288/288 [==============================] - 1s 2ms/step - loss: 18.4907 - val_loss: 21.2675\n",
            "Epoch 182/200\n",
            "288/288 [==============================] - 1s 2ms/step - loss: 18.2472 - val_loss: 21.1463\n",
            "Epoch 183/200\n",
            "288/288 [==============================] - 1s 2ms/step - loss: 18.8009 - val_loss: 23.5357\n",
            "Epoch 184/200\n",
            "288/288 [==============================] - 1s 2ms/step - loss: 18.1644 - val_loss: 25.9804\n",
            "Epoch 185/200\n",
            "288/288 [==============================] - 1s 2ms/step - loss: 18.4673 - val_loss: 22.8098\n",
            "Epoch 186/200\n",
            "288/288 [==============================] - 1s 2ms/step - loss: 17.6229 - val_loss: 21.5712\n",
            "Epoch 187/200\n",
            "288/288 [==============================] - 1s 2ms/step - loss: 17.9588 - val_loss: 21.4006\n",
            "Epoch 188/200\n",
            "288/288 [==============================] - 1s 2ms/step - loss: 18.1494 - val_loss: 21.0444\n",
            "Epoch 189/200\n",
            "288/288 [==============================] - 1s 2ms/step - loss: 17.4420 - val_loss: 21.6382\n",
            "Epoch 190/200\n",
            "288/288 [==============================] - 1s 2ms/step - loss: 17.6152 - val_loss: 21.2462\n",
            "Epoch 191/200\n",
            "288/288 [==============================] - 1s 2ms/step - loss: 17.6491 - val_loss: 21.3698\n",
            "Epoch 192/200\n",
            "288/288 [==============================] - 1s 2ms/step - loss: 17.8757 - val_loss: 21.1798\n",
            "Epoch 193/200\n",
            "288/288 [==============================] - 1s 2ms/step - loss: 19.5020 - val_loss: 21.7845\n",
            "Epoch 194/200\n",
            "288/288 [==============================] - 1s 2ms/step - loss: 18.7075 - val_loss: 22.6622\n",
            "Epoch 195/200\n",
            "288/288 [==============================] - 1s 2ms/step - loss: 18.2114 - val_loss: 22.3517\n",
            "Epoch 196/200\n",
            "288/288 [==============================] - 1s 2ms/step - loss: 18.1837 - val_loss: 21.4118\n",
            "Epoch 197/200\n",
            "288/288 [==============================] - 1s 2ms/step - loss: 17.9617 - val_loss: 22.6401\n",
            "Epoch 198/200\n",
            "288/288 [==============================] - 1s 2ms/step - loss: 17.4506 - val_loss: 21.2529\n",
            "Epoch 199/200\n",
            "288/288 [==============================] - 1s 2ms/step - loss: 18.4906 - val_loss: 21.9557\n",
            "Epoch 200/200\n",
            "288/288 [==============================] - 1s 2ms/step - loss: 17.2908 - val_loss: 25.1771\n"
          ],
          "name": "stdout"
        },
        {
          "output_type": "execute_result",
          "data": {
            "text/plain": [
              "<keras.callbacks.History at 0x7fb391330da0>"
            ]
          },
          "metadata": {
            "tags": []
          },
          "execution_count": 74
        }
      ]
    },
    {
      "metadata": {
        "id": "KwhI4n8hKvlM",
        "colab_type": "text"
      },
      "cell_type": "markdown",
      "source": [
        "### Make predictions"
      ]
    },
    {
      "metadata": {
        "id": "oQVNCE4jetje",
        "colab_type": "code",
        "colab": {}
      },
      "cell_type": "code",
      "source": [
        "predictions = model.predict([testAttrX, testImagesX])\n",
        "\n",
        "difference = predictions.flatten() - testY\n",
        "percent_difference = (difference/testY)*100\n",
        "abs_percent_difference = np.abs(percent_difference)"
      ],
      "execution_count": 0,
      "outputs": []
    },
    {
      "metadata": {
        "id": "GyI34z3AKzWH",
        "colab_type": "text"
      },
      "cell_type": "markdown",
      "source": [
        "### Calculate mean and std"
      ]
    },
    {
      "metadata": {
        "id": "a2tpiLB0evgg",
        "colab_type": "code",
        "colab": {
          "base_uri": "https://localhost:8080/",
          "height": 51
        },
        "outputId": "df9762fb-2507-4c49-e87f-4f24ee090dcc"
      },
      "cell_type": "code",
      "source": [
        "mean = np.mean(abs_percent_difference)\n",
        "std = np.std(abs_percent_difference)\n",
        "\n",
        "locale.setlocale(locale.LC_ALL, \"en_US.UTF-8\")\n",
        "print(\"Avg. house price: {}, std house price: {}\".format(\n",
        "\tlocale.currency(df[\"price\"].mean(), grouping=True),\n",
        "\tlocale.currency(df[\"price\"].std(), grouping=True)))\n",
        "print(\"Mean: {:.2f}%, std: {:.2f}%\".format(mean, std))"
      ],
      "execution_count": 76,
      "outputs": [
        {
          "output_type": "stream",
          "text": [
            "Avg. house price: $527,956.12, std house price: $479,979.80\n",
            "Mean: 25.18%, std: 30.37%\n"
          ],
          "name": "stdout"
        }
      ]
    },
    {
      "metadata": {
        "id": "u6qRtXK0K2R7",
        "colab_type": "text"
      },
      "cell_type": "markdown",
      "source": [
        "### Test on a random image"
      ]
    },
    {
      "metadata": {
        "id": "o4Cs4vXctiga",
        "colab_type": "code",
        "colab": {
          "base_uri": "https://localhost:8080/",
          "height": 167
        },
        "outputId": "f42246cc-a0f0-4ceb-ad5e-5b68fd8b1561"
      },
      "cell_type": "code",
      "source": [
        "from IPython.display import Image\n",
        "\n",
        "q = model.predict([[testAttrX[42]], [testImagesX[42]]])[0][0]\n",
        "\n",
        "cv2.imwrite(\"img.jpg\", testImagesX[42]*255)\n",
        "Image(filename='img.jpg', width=150, height=150) "
      ],
      "execution_count": 88,
      "outputs": [
        {
          "output_type": "execute_result",
          "data": {
            "image/jpeg": "[encoded data removed]",
            "text/plain": [
              "<IPython.core.display.Image object>"
            ]
          },
          "metadata": {
            "tags": [],
            "image/jpeg": {
              "width": 150,
              "height": 150
            }
          },
          "execution_count": 88
        }
      ]
    },
    {
      "metadata": {
        "id": "umiq-uRTHZCN",
        "colab_type": "code",
        "colab": {
          "base_uri": "https://localhost:8080/",
          "height": 51
        },
        "outputId": "6c18f7ac-4c14-43ec-b926-40d227893cdb"
      },
      "cell_type": "code",
      "source": [
        "print(\"Actual Price: {:.2f}\".format(testY.iloc[42]*max_price))\n",
        "print(\"Predicted Price: {:.2f}\".format(q*max_price))"
      ],
      "execution_count": 87,
      "outputs": [
        {
          "output_type": "stream",
          "text": [
            "Actual Price: 560000.00\n",
            "Predicted Price: 577228.69\n"
          ],
          "name": "stdout"
        }
      ]
    }
  ]
}